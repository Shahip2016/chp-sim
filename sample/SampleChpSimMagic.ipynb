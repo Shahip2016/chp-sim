{
 "cells": [
  {
   "cell_type": "markdown",
   "metadata": {},
   "source": [
    "# Sample use of the CHP Simulator in Q# Jupyter Notebook"
   ]
  },
  {
   "cell_type": "markdown",
   "metadata": {},
   "source": [
    "### 1. Start by loading the package that contains the simulator\n",
    "TODO: Add instructions for how to build locally or add to personal nuget feed"
   ]
  },
  {
   "cell_type": "code",
   "execution_count": 1,
   "metadata": {},
   "outputs": [
    {
     "data": {
      "application/json": "{\"LastUpdated\":\"2020-07-25T11:35:55.7883634-07:00\",\"IsCompleted\":true,\"Description\":\"Adding package QsharpCommunity.Simulators.Chp::1.0.0\",\"Subtask\":\"done\"}",
      "text/plain": [
       "Adding package QsharpCommunity.Simulators.Chp::1.0.0: done!"
      ]
     },
     "metadata": {},
     "output_type": "display_data"
    },
    {
     "data": {
      "application/json": "[\"Microsoft.Quantum.Standard::0.12.20072031\",\"QsharpCommunity.Simulators.Chp::1.0.0\"]",
      "text/html": [
       "<ul><li>Microsoft.Quantum.Standard::0.12.20072031</li><li>QsharpCommunity.Simulators.Chp::1.0.0</li></ul>"
      ],
      "text/plain": [
       "Microsoft.Quantum.Standard::0.12.20072031, QsharpCommunity.Simulators.Chp::1.0.0"
      ]
     },
     "execution_count": 1,
     "metadata": {},
     "output_type": "execute_result"
    }
   ],
   "source": [
    "%package QsharpCommunity.Simulators.Chp::1.0.0"
   ]
  },
  {
   "cell_type": "markdown",
   "metadata": {},
   "source": [
    "### 2. Ask for all the Jupyter magic commands to see that the `%chp` is loaded properly."
   ]
  },
  {
   "cell_type": "code",
   "execution_count": 2,
   "metadata": {},
   "outputs": [
    {
     "data": {
      "application/json": "[{\"Name\":\"%azure.connect\",\"Documentation\":{\"Summary\":\"Connects to an Azure Quantum workspace or displays current connection status.\",\"Full\":null,\"Description\":\"\\r\\nThis magic command allows for connecting to an Azure Quantum workspace\\r\\nas specified by the resource ID of the workspace or by a combination of\\r\\nsubscription ID, resource group name, and workspace name.\\r\\n\\r\\nIf the connection is successful, a list of the available Q# execution targets\\r\\nin the Azure Quantum workspace will be displayed.\\r\\n\\r\\n#### Required parameters\\r\\n\\r\\nThe Azure Quantum workspace can be identified by resource ID:\\r\\n\\r\\n- `resourceId=<string>`: The resource ID of the Azure Quantum workspace.\\r\\nThis can be obtained from the workspace page in the Azure portal. The `resourceId=` prefix\\r\\nis optional for this parameter, as long as the resource ID is valid.\\r\\n\\r\\nAlternatively, it can be identified by subscription ID, resource group name, and workspace name:\\r\\n\\r\\n- `subscription=<string>`: The Azure subscription ID for the Azure Quantum workspace.\\r\\n- `resourceGroup=<string>`: The Azure resource group name for the Azure Quantum workspace.\\r\\n- `workspace=<string>`: The name of the Azure Quantum workspace.\\r\\n\\r\\n#### Optional parameters\\r\\n\\r\\n- `refresh`: Bypasses any saved or cached credentials when connecting to Azure.\\r\\n- `storage=<string>`: The connection string to the Azure storage\\r\\naccount. Required if the specified Azure Quantum workspace was not linked to a storage\\r\\naccount at workspace creation time.\\r\\n\\r\\n#### Possible errors\\r\\n\\r\\n- `WorkspaceNotFound`: No Azure Quantum workspace was found that matches the specified criteria.\\r\\n- `AuthenticationFailed`: Failed to authenticate to the specified Azure Quantum workspace.\\r\\n                    \",\"Remarks\":null,\"Examples\":[\"\\r\\nConnect to an Azure Quantum workspace using its resource ID:\\r\\n```\\r\\nIn []: %azure.connect \\\"/subscriptions/.../Microsoft.Quantum/Workspaces/WORKSPACE_NAME\\\"\\r\\nOut[]: Connected to Azure Quantum workspace WORKSPACE_NAME.\\r\\n        <list of Q# execution targets available in the Azure Quantum workspace>\\r\\n```\\r\\n                        \",\"\\r\\nConnect to an Azure Quantum workspace using its resource ID and a storage account connection string:\\r\\n```\\r\\nIn []: %azure.connect resourceId=\\\"/subscriptions/.../Microsoft.Quantum/Workspaces/WORKSPACE_NAME\\\"\\r\\n                        storage=\\\"STORAGE_ACCOUNT_CONNECTION_STRING\\\"\\r\\nOut[]: Connected to Azure Quantum workspace WORKSPACE_NAME.\\r\\n        <list of Q# execution targets available in the Azure Quantum workspace>\\r\\n```\\r\\n                        \",\"\\r\\nConnect to an Azure Quantum workspace using individual subscription ID, resource group name, and workspace name parameters:\\r\\n```\\r\\nIn []: %azure.connect subscription=\\\"SUBSCRIPTION_ID\\\"\\r\\n                        resourceGroup=\\\"RESOURCE_GROUP_NAME\\\"\\r\\n                        workspace=\\\"WORKSPACE_NAME\\\"\\r\\n                        storage=\\\"STORAGE_ACCOUNT_CONNECTION_STRING\\\"\\r\\nOut[]: Connected to Azure Quantum workspace WORKSPACE_NAME.\\r\\n        <list of Q# execution targets available in the Azure Quantum workspace>\\r\\n```\\r\\n                        \",\"\\r\\nConnect to an Azure Quantum workspace and force a credential prompt using\\r\\nthe `refresh` option:\\r\\n```\\r\\nIn []: %azure.connect refresh \\\"/subscriptions/.../Microsoft.Quantum/Workspaces/WORKSPACE_NAME\\\"\\r\\nOut[]: To sign in, use a web browser to open the page https://microsoft.com/devicelogin\\r\\n        and enter the code [login code] to authenticate.\\r\\n        Connected to Azure Quantum workspace WORKSPACE_NAME.\\r\\n        <list of Q# execution targets available in the Azure Quantum workspace>\\r\\n```\\r\\n                        \",\"\\r\\nPrint information about the currently-connected Azure Quantum workspace:\\r\\n```\\r\\nIn []: %azure.connect\\r\\nOut[]: Connected to Azure Quantum workspace WORKSPACE_NAME.\\r\\n        <list of Q# execution targets available in the Azure Quantum workspace>\\r\\n```\\r\\n                        \"],\"SeeAlso\":null},\"AssemblyName\":\"Microsoft.Quantum.IQSharp.AzureClient\"},{\"Name\":\"%azure.execute\",\"Documentation\":{\"Summary\":\"Executes a job in an Azure Quantum workspace.\",\"Full\":null,\"Description\":\"\\r\\nThis magic command allows for executing a Q# operation or function\\r\\non the specified target in the current Azure Quantum workspace.\\r\\nThe command waits a specified amount of time for the job to complete before returning.\\r\\n\\r\\nThe Azure Quantum workspace must have been previously initialized\\r\\nusing the [`%azure.connect` magic command](https://docs.microsoft.com/qsharp/api/iqsharp-magic/azure.connect),\\r\\nand an execution target for the job must have been specified using the\\r\\n[`%azure.target` magic command](https://docs.microsoft.com/qsharp/api/iqsharp-magic/azure.target).\\r\\n\\r\\n#### Required parameters\\r\\n\\r\\n- Q# operation or function name. This must be the first parameter, and must be a valid Q# operation\\r\\nor function name that has been defined either in the notebook or in a Q# file in the same folder.\\r\\n- Arguments for the Q# operation or function must also be specified as `key=value` pairs.\\r\\n\\r\\n#### Optional parameters\\r\\n\\r\\n- `jobName=<string>`: Friendly name to identify this job. If not specified,\\r\\nthe Q# operation or function name will be used as the job name.\\r\\n- `shots=<integer>` (default=500): Number of times to repeat execution of the\\r\\nspecified Q# operation or function.\\r\\n- `timeout=<integer>` (default=30): Time to wait (in seconds) for job completion\\r\\nbefore the magic command returns.\\r\\n- `poll=<integer>` (default=5): Interval (in seconds) to poll for\\r\\njob status while waiting for job execution to complete.\\r\\n\\r\\n#### Possible errors\\r\\n\\r\\n- `NotConnected`: Not connected to any Azure Quantum workspace.\\r\\n- `NoTarget`: No execution target has been configured for Azure Quantum job submission.\\r\\n- `NoOperationName`: No Q# operation name was specified for Azure Quantum job submission.\\r\\n- `InvalidTarget`: The specified execution target is not valid for Q# job submission in the current Azure Quantum workspace.\\r\\n- `UnrecognizedOperationName`: The specified Q# operation name was not recognized.\\r\\n- `InvalidEntryPoint`: The specified Q# operation cannot be used as an entry point for Azure Quantum job submission.\\r\\n- `JobSubmissionFailed`: Failed to submit the job to the Azure Quantum workspace.\\r\\n- `JobNotCompleted`: The specified Azure Quantum job has not yet completed.\\r\\n- `JobOutputDownloadFailed`: Failed to download results for the specified Azure Quantum job.\\r\\n                    \",\"Remarks\":null,\"Examples\":[\"\\r\\nExecute a Q# operation defined as `operation MyOperation(a : Int, b : Int) : Result`\\r\\non the active target in the current Azure Quantum workspace:\\r\\n```\\r\\nIn []: %azure.execute MyOperation a=5 b=10\\r\\nOut[]: Submitting MyOperation to target provider.qpu...\\r\\n       Job successfully submitted for 500 shots.\\r\\n          Job name: MyOperation\\r\\n          Job ID: <Azure Quantum job ID>\\r\\n       Waiting up to 30 seconds for Azure Quantum job to complete...\\r\\n       [1:23:45 PM] Current job status: Waiting\\r\\n       [1:23:50 PM] Current job status: Executing\\r\\n       [1:23:55 PM] Current job status: Succeeded\\r\\n       <detailed results of completed job>\\r\\n```\\r\\n                        \",\"\\r\\nExecute a Q# operation defined as `operation MyOperation(a : Int, b : Int) : Result`\\r\\non the active target in the current Azure Quantum workspace,\\r\\nspecifying a custom job name, number of shots, timeout, and polling interval:\\r\\n```\\r\\nIn []: %azure.submit MyOperation a=5 b=10 jobName=\\\"My job\\\" shots=100 timeout=60 poll=10\\r\\nOut[]: Submitting MyOperation to target provider.qpu...\\r\\n       Job successfully submitted for 100 shots.\\r\\n          Job name: My job\\r\\n          Job ID: <Azure Quantum job ID>\\r\\n       Waiting up to 60 seconds for Azure Quantum job to complete...\\r\\n       [1:23:45 PM] Current job status: Waiting\\r\\n       [1:23:55 PM] Current job status: Waiting\\r\\n       [1:24:05 PM] Current job status: Executing\\r\\n       [1:24:15 PM] Current job status: Succeeded\\r\\n       <detailed results of completed job>\\r\\n```\\r\\n                        \"],\"SeeAlso\":null},\"AssemblyName\":\"Microsoft.Quantum.IQSharp.AzureClient\"},{\"Name\":\"%azure.jobs\",\"Documentation\":{\"Summary\":\"Displays a list of jobs in the current Azure Quantum workspace.\",\"Full\":null,\"Description\":\"\\r\\nThis magic command allows for displaying the list of jobs in the current \\r\\nAzure Quantum workspace, optionally filtering the list to jobs which\\r\\nhave an ID, name, or target containing the provided filter parameter.\\r\\n\\r\\nThe Azure Quantum workspace must have been previously initialized\\r\\nusing the [`%azure.connect` magic command](https://docs.microsoft.com/qsharp/api/iqsharp-magic/azure.connect).\\r\\n\\r\\n#### Optional parameters\\r\\n\\r\\n- A string to filter the list of jobs. Jobs which have an ID, name, or target\\r\\ncontaining the provided filter parameter will be displayed. If not specified,\\r\\nall recent jobs are displayed.\\r\\n\\r\\n#### Possible errors\\r\\n\\r\\n- `NotConnected`: Not connected to any Azure Quantum workspace.\\r\\n                    \",\"Remarks\":null,\"Examples\":[\"\\r\\nGet the list of jobs:\\r\\n```\\r\\nIn []: %azure.jobs\\r\\nOut[]: <detailed status of all recent jobs in the workspace>\\r\\n```\\r\\n                        \",\"\\r\\nGet the list of jobs whose ID, name, or target contains \\\"My job\\\":\\r\\n```\\r\\nIn []: %azure.jobs \\\"My job\\\"\\r\\nOut[]: <detailed status of matching jobs in the workspace>\\r\\n```\\r\\n                        \"],\"SeeAlso\":null},\"AssemblyName\":\"Microsoft.Quantum.IQSharp.AzureClient\"},{\"Name\":\"%azure.output\",\"Documentation\":{\"Summary\":\"Displays results for a job in the current Azure Quantum workspace.\",\"Full\":null,\"Description\":\"\\r\\nThis magic command allows for displaying results for a job in the current \\r\\nAzure Quantum workspace.\\r\\nThe job execution must already be completed in order to display\\r\\nresults.\\r\\n\\r\\nThe Azure Quantum workspace must have been previously initialized\\r\\nusing the [`%azure.connect` magic command](https://docs.microsoft.com/qsharp/api/iqsharp-magic/azure.connect).\\r\\n\\r\\n#### Optional parameters\\r\\n\\r\\n- The job ID for which to display results. If not specified, the job ID from\\r\\nthe most recent call to [`%azure.submit`](https://docs.microsoft.com/qsharp/api/iqsharp-magic/azure.submit)\\r\\nor [`%azure.execute`](https://docs.microsoft.com/qsharp/api/iqsharp-magic/azure.execute) will be used.\\r\\n\\r\\n#### Possible errors\\r\\n\\r\\n- `NotConnected`: Not connected to any Azure Quantum workspace.\\r\\n- `JobNotFound`: No job with the given ID was found in the current Azure Quantum workspace.\\r\\n- `JobNotCompleted`: The specified Azure Quantum job has not yet completed.\\r\\n- `JobOutputDownloadFailed`: Failed to download results for the specified Azure Quantum job.\\r\\n                    \",\"Remarks\":null,\"Examples\":[\"\\r\\nGet results of a specific job:\\r\\n```\\r\\nIn []: %azure.output JOB_ID\\r\\nOut[]: <detailed results of specified job>\\r\\n```\\r\\n                        \",\"\\r\\nGet results of the most recently submitted job:\\r\\n```\\r\\nIn []: %azure.output\\r\\nOut[]: <detailed results of most recently submitted job>\\r\\n```\\r\\n                        \"],\"SeeAlso\":null},\"AssemblyName\":\"Microsoft.Quantum.IQSharp.AzureClient\"},{\"Name\":\"%azure.status\",\"Documentation\":{\"Summary\":\"Displays status for a job in the current Azure Quantum workspace.\",\"Full\":null,\"Description\":\"\\r\\nThis magic command allows for displaying status for a job in the current \\r\\nAzure Quantum workspace.\\r\\n\\r\\nThe Azure Quantum workspace must have been previously initialized\\r\\nusing the [`%azure.connect` magic command](https://docs.microsoft.com/qsharp/api/iqsharp-magic/azure.connect).\\r\\n\\r\\n#### Optional parameters\\r\\n\\r\\n- The job ID for which to display status. If not specified, the job ID from\\r\\nthe most recent call to [`%azure.submit`](https://docs.microsoft.com/qsharp/api/iqsharp-magic/azure.submit)\\r\\nor [`%azure.execute`](https://docs.microsoft.com/qsharp/api/iqsharp-magic/azure.execute) will be used.\\r\\n\\r\\n#### Possible errors\\r\\n\\r\\n- `NotConnected`: Not connected to any Azure Quantum workspace.\\r\\n- `JobNotFound`: No job with the given ID was found in the current Azure Quantum workspace.\\r\\n                    \",\"Remarks\":null,\"Examples\":[\"\\r\\nGet the status of a specific job:\\r\\n```\\r\\nIn []: %azure.status JOB_ID\\r\\nOut[]: <detailed status of specified job>\\r\\n```\\r\\n                        \",\"\\r\\nGet the status of the most recently submitted job:\\r\\n```\\r\\nIn []: %azure.status\\r\\nOut[]: <detailed status of most recently submitted job>\\r\\n```\\r\\n                        \"],\"SeeAlso\":null},\"AssemblyName\":\"Microsoft.Quantum.IQSharp.AzureClient\"},{\"Name\":\"%azure.submit\",\"Documentation\":{\"Summary\":\"Submits a job to an Azure Quantum workspace.\",\"Full\":null,\"Description\":\"\\r\\nThis magic command allows for submitting a Q# operation or function\\r\\nfor execution on the specified target in the current Azure Quantum workspace.\\r\\nThe command returns immediately after the job is submitted.\\r\\n\\r\\nThe Azure Quantum workspace must have been previously initialized\\r\\nusing the [`%azure.connect` magic command](https://docs.microsoft.com/qsharp/api/iqsharp-magic/azure.connect),\\r\\nand an execution target for the job must have been specified using the\\r\\n[`%azure.target` magic command](https://docs.microsoft.com/qsharp/api/iqsharp-magic/azure.target).\\r\\n\\r\\n#### Required parameters\\r\\n\\r\\n- Q# operation or function name. This must be the first parameter, and must be a valid Q# operation\\r\\nor function name that has been defined either in the notebook or in a Q# file in the same folder.\\r\\n- Arguments for the Q# operation or function must also be specified as `key=value` pairs.\\r\\n\\r\\n#### Optional parameters\\r\\n\\r\\n- `jobName=<string>`: Friendly name to identify this job. If not specified,\\r\\nthe Q# operation or function name will be used as the job name.\\r\\n- `shots=<integer>` (default=500): Number of times to repeat execution of the\\r\\nspecified Q# operation or function.\\r\\n\\r\\n#### Possible errors\\r\\n\\r\\n- `NotConnected`: Not connected to any Azure Quantum workspace.\\r\\n- `NoTarget`: No execution target has been configured for Azure Quantum job submission.\\r\\n- `NoOperationName`: No Q# operation name was specified for Azure Quantum job submission.\\r\\n- `InvalidTarget`: The specified execution target is not valid for Q# job submission in the current Azure Quantum workspace.\\r\\n- `UnrecognizedOperationName`: The specified Q# operation name was not recognized.\\r\\n- `InvalidEntryPoint`: The specified Q# operation cannot be used as an entry point for Azure Quantum job submission.\\r\\n- `JobSubmissionFailed`: Failed to submit the job to the Azure Quantum workspace.\\r\\n                    \",\"Remarks\":null,\"Examples\":[\"\\r\\nSubmit a Q# operation defined as `operation MyOperation(a : Int, b : Int) : Result`\\r\\nfor execution on the active target in the current Azure Quantum workspace:\\r\\n```\\r\\nIn []: %azure.submit MyOperation a=5 b=10\\r\\nOut[]: Submitting MyOperation to target provider.qpu...\\r\\n       Job successfully submitted for 500 shots.\\r\\n          Job name: MyOperation\\r\\n          Job ID: <Azure Quantum job ID>\\r\\n       <detailed properties of submitted job>\\r\\n```\\r\\n                        \",\"\\r\\nSubmit a Q# operation defined as `operation MyOperation(a : Int, b : Int) : Result`\\r\\nfor execution on the active target in the current Azure Quantum workspace,\\r\\nspecifying a custom job name, number of shots, timeout, and polling interval:\\r\\n```\\r\\nIn []: %azure.submit MyOperation a=5 b=10 jobName=\\\"My job\\\" shots=100\\r\\nOut[]: Submitting MyOperation to target provider.qpu...\\r\\n       Job successfully submitted for 100 shots.\\r\\n          Job name: My job\\r\\n          Job ID: <Azure Quantum job ID>\\r\\n       <detailed properties of submitted job>\\r\\n```\\r\\n                        \"],\"SeeAlso\":null},\"AssemblyName\":\"Microsoft.Quantum.IQSharp.AzureClient\"},{\"Name\":\"%azure.target\",\"Documentation\":{\"Summary\":\"Sets or displays the active execution target for Q# job submission in an Azure Quantum workspace.\",\"Full\":null,\"Description\":\"\\r\\nThis magic command allows for specifying or displaying the execution target for Q# job submission\\r\\nin an Azure Quantum workspace.\\r\\n\\r\\nThe Azure Quantum workspace must have been previously initialized\\r\\nusing the [`%azure.connect` magic command](https://docs.microsoft.com/qsharp/api/iqsharp-magic/azure.connect)\\r\\nmagic command. The specified execution target must be available in the workspace and support execution of Q# programs.\\r\\n\\r\\n#### Optional parameters\\r\\n\\r\\n- The target ID to set as the active execution target for Q# job submission. If not specified,\\r\\nthe currently active execution target is displayed.\\r\\n\\r\\n#### Possible errors\\r\\n\\r\\n- `NotConnected`: Not connected to any Azure Quantum workspace.\\r\\n- `InvalidTarget`: The specified execution target is not valid for Q# job submission in the current Azure Quantum workspace.\\r\\n- `NoTarget`: No execution target has been configured for Azure Quantum job submission.\\r\\n                    \",\"Remarks\":null,\"Examples\":[\"\\r\\nSet the current target for Q# job submission to `provider.qpu`:\\r\\n```\\r\\nIn []: %azure.target provider.qpu\\r\\nOut[]: Loading package Microsoft.Quantum.Providers.Provider and dependencies...\\r\\n       Active target is now provider.qpu\\r\\n       <detailed properties of active execution target>\\r\\n```\\r\\n                        \",\"\\r\\nDisplay the current target and all available targets in the current Azure Quantum workspace:\\r\\n```\\r\\nIn []: %azure.target\\r\\nOut[]: Current execution target: provider.qpu\\r\\n       Available execution targets: provider.qpu, provider.simulator\\r\\n       <detailed properties of active execution target>\\r\\n```\\r\\n                        \"],\"SeeAlso\":null},\"AssemblyName\":\"Microsoft.Quantum.IQSharp.AzureClient\"},{\"Name\":\"%chp\",\"Documentation\":{\"Summary\":\"Runs a given function or operation on the ToffoliSimulator target machine.\",\"Full\":null,\"Description\":\"\\r\\n                    This magic command allows executing a given function or operation on the ToffoliSimulator, \\r\\n                    which performs a simulation of the given function or operation in which the state is always\\r\\n                    a simple product state in the computational basis, and prints the resulting return value.\\r\\n\\r\\n                    See the [ToffoliSimulator user guide](https://docs.microsoft.com/quantum/user-guide/machines/toffoli-simulator) to learn more.\\r\\n\\r\\n                    #### Required parameters\\r\\n\\r\\n                    - Q# operation or function name. This must be the first parameter, and must be a valid Q# operation\\r\\n                    or function name that has been defined either in the notebook or in a Q# file in the same folder.\\r\\n                    - Arguments for the Q# operation or function must also be specified as `key=value` pairs.\\r\\n                \",\"Remarks\":null,\"Examples\":[\"\\r\\n                        Use the ToffoliSimulator to simulate a Q# operation\\r\\n                        defined as `operation MyOperation() : Result`:\\r\\n                        ```\\r\\n                        In []: %toffoli MyOperation\\r\\n                        Out[]: <return value of the operation>\\r\\n                        ```\\r\\n                    \",\"\\r\\n                        Use the ToffoliSimulator to simulate a Q# operation\\r\\n                        defined as `operation MyOperation(a : Int, b : Int) : Result`:\\r\\n                        ```\\r\\n                        In []: %toffoli MyOperation a=5 b=10\\r\\n                        Out[]: <return value of the operation>\\r\\n                        ```\\r\\n                    \"],\"SeeAlso\":null},\"AssemblyName\":\"CHPSimulator\"},{\"Name\":\"%config\",\"Documentation\":{\"Summary\":\"Allows setting or querying configuration options.\",\"Full\":null,\"Description\":\"\\r\\nThis magic command allows for setting or querying\\r\\nconfiguration options used to control the behavior of the\\r\\nIQ# kernel (such as state visualization options). It also\\r\\nallows for saving those options to a JSON file in the current\\r\\nworking directory (using the `--save` option).\\r\\n\\r\\n#### Configuration settings\\r\\n\\r\\n**`dump.basisStateLabelingConvention`**\\r\\n\\r\\n**Value:** `\\\"LittleEndian\\\"` (default), `\\\"BigEndian\\\"`, or `\\\"Bitstring\\\"`\\r\\n\\r\\nThe convention to be used when labeling computational\\r\\nbasis states in output from callables such as `DumpMachine` or `DumpRegister`.\\r\\n\\r\\n**`dump.truncateSmallAmplitudes`**\\r\\n\\r\\n**Value:** `true` or `false` (default)\\r\\n\\r\\nHides basis states of a state vector whose measurement probabilities\\r\\n(i.e., squared amplitudes) are smaller than a particular threshold, as determined by\\r\\nthe `dump.truncationThreshold` setting.\\r\\n\\r\\n**`dump.truncationThreshold`**\\r\\n\\r\\n**Value:** floating point number such as `0.001` or `1E-8` (default `1E-10`)\\r\\n\\r\\nIf `dump.truncateSmallAmplitudes` is set to `true`, determines the\\r\\nthreshold for measurement probabilities (i.e., squared amplitudes) below which to hide the display\\r\\nof basis states of a state vector.\\r\\n\\r\\n**`dump.phaseDisplayStyle`**\\r\\n\\r\\n**Value:** `\\\"ArrowOnly\\\"` (default), `\\\"NumberOnly\\\"`, `\\\"ArrowAndNumber\\\"`, or `\\\"None\\\"`\\r\\n\\r\\nConfigures the phase visualization style in output from callables such as\\r\\n`DumpMachine` or `DumpRegister`. Supports displaying phase as arrows, numbers (in radians), both, or neither.\\r\\n                \",\"Remarks\":null,\"Examples\":[\"\\r\\nPrint a list of all currently set configuration options:\\r\\n```\\r\\nIn []: %config\\r\\nOut[]: Configuration key                 Value\\r\\n       --------------------------------- -----------\\r\\n       dump.basisStateLabelingConvention \\\"BigEndian\\\"\\r\\n       dump.truncateSmallAmplitudes      true\\r\\n```\\r\\n                    \",\"\\r\\nConfigure the `DumpMachine` and `DumpRegister` callables\\r\\nto use big-endian convention:\\r\\n```\\r\\nIn []: %config dump.basisStateLabelingConvention=\\\"BigEndian\\\"\\r\\nOut[]: \\\"BigEndian\\\"\\r\\n```\\r\\n                    \",\"\\r\\nSave current configuration options to `.iqsharp-config.json`\\r\\nin the current working directory:\\r\\n```\\r\\nIn []: %config --save\\r\\nOut[]: \\r\\n```\\r\\nNote that options saved this way will be applied automatically\\r\\nthe next time a notebook in the current working\\r\\ndirectory is loaded.\\r\\n                    \"],\"SeeAlso\":null},\"AssemblyName\":\"Microsoft.Quantum.IQSharp.Kernel\"},{\"Name\":\"%estimate\",\"Documentation\":{\"Summary\":\"Runs a given function or operation on the ResourcesEstimator target machine.\",\"Full\":null,\"Description\":\"\\r\\nThe ResourcesEstimator estimates statistics about how many resources the given\\r\\noperation needs for execution. The resources it calculates include:\\r\\n\\r\\n- Counts for each primitive operation\\r\\n- Depth (lower bound for the T-gate depth of the quantum circuit)\\r\\n- Width (lower bound for the maximum number of qubits used for the computation)\\r\\n\\r\\nSee the [ResourcesEstimator user guide](https://docs.microsoft.com/quantum/user-guide/machines/resources-estimator) to learn more.\\r\\n\\r\\n#### Required parameters\\r\\n\\r\\n- Q# operation or function name. This must be the first parameter, and must be a valid Q# operation\\r\\nor function name that has been defined either in the notebook or in a Q# file in the same folder.\\r\\n- Arguments for the Q# operation or function must also be specified as `key=value` pairs.\\r\\n                \",\"Remarks\":null,\"Examples\":[\"\\r\\nEstimate resources for a Q# operation defined as `operation MyOperation() : Result`:\\r\\n```\\r\\nIn []: %estimate MyOperation\\r\\nOut[]: Metric           Sum     \\r\\n       ---------------- ----\\r\\n       CNOT             0\\r\\n       QubitClifford    4\\r\\n       R                0\\r\\n       Measure          8\\r\\n       T                0\\r\\n       Depth            0\\r\\n       Width            4\\r\\n       BorrowedWidth    0\\r\\n```\\r\\n                    \",\"\\r\\nEstimate resources for a Q# operation defined as `operation MyOperation(a : Int, b : Int) : Result`:\\r\\n```\\r\\nIn []: %estimate MyOperation a=5 b=10\\r\\nOut[]: Metric           Sum     \\r\\n       ---------------- ----\\r\\n       CNOT             0\\r\\n       QubitClifford    4\\r\\n       R                0\\r\\n       Measure          8\\r\\n       T                0\\r\\n       Depth            0\\r\\n       Width            4\\r\\n       BorrowedWidth    0\\r\\n```\\r\\n                    \"],\"SeeAlso\":null},\"AssemblyName\":\"Microsoft.Quantum.IQSharp.Kernel\"},{\"Name\":\"%lsmagic\",\"Documentation\":{\"Summary\":\"Returns a list of all currently available magic commands.\",\"Full\":null,\"Description\":\"\\r\\nThis magic command lists all of the magic commands available in the IQ# kernel,\\r\\nas well as those defined in any packages that have been loaded in the current\\r\\nsession via the [`%package` magic command](https://docs.microsoft.com/qsharp/api/iqsharp-magic/package).\\r\\n                \",\"Remarks\":null,\"Examples\":[\"\\r\\nDisplay the list of available magic commands:\\r\\n```\\r\\nIn []: %lsmagic\\r\\nOut[]: <detailed list of all available magic commands>\\r\\n```\\r\\n                    \"],\"SeeAlso\":null},\"AssemblyName\":\"Microsoft.Quantum.IQSharp.Kernel\"},{\"Name\":\"%lsopen\",\"Documentation\":{\"Summary\":\"Lists currently opened namespaces and their aliases.\",\"Full\":null,\"Description\":\"\\r\\nThis magic command lists any namespaces that have been made\\r\\navailable using `open` statements, along with any aliases\\r\\nthat may have been assigned to those namespaces.\\r\\n                \",\"Remarks\":null,\"Examples\":[\"\\r\\nPrint a list of all currently opened namespaces:\\r\\n```\\r\\nIn []: %lsopen\\r\\nOut[]: Namespace                     Alias\\r\\n       ----------------------------- ----\\r\\n       Microsoft.Quantum.Canon\\r\\n       Microsoft.Quantum.Diagnostics Diag\\r\\n       Microsoft.Quantum.Intrinsic\\r\\n```\\r\\n                    \"],\"SeeAlso\":null},\"AssemblyName\":\"Microsoft.Quantum.IQSharp.Kernel\"},{\"Name\":\"%package\",\"Documentation\":{\"Summary\":\"Provides the ability to load a NuGet package.\",\"Full\":null,\"Description\":\"\\r\\nThis magic command allows for loading a NuGet package into the current IQ# kernel process.\\r\\nThe package must be available on the system's list of NuGet sources, which typically includes nuget.org.\\r\\nQ# operations, functions, and user-defined types defined in the loaded package,\\r\\nalong with functionality such as magic commands and result encoders,\\r\\nwill automatically become available for use in the current session.\\r\\n\\r\\nThe package can be specified by name only, or by name and version (using `name::version` syntax).\\r\\n\\r\\nIf no version is specified:\\r\\n\\r\\n- For packages that are part of the Microsoft Quantum Development Kit, IQ# will attempt to\\r\\nobtain the version of the package that matches the current IQ# version.\\r\\n- For other packages, IQ# will attempt to obtain the most recent version of the package.\\r\\n                \",\"Remarks\":null,\"Examples\":[\"\\r\\nLoad the `Microsoft.Quantum.MachineLearning` package into the current IQ# session:\\r\\n```\\r\\nIn []: %package Microsoft.Quantum.MachineLearning\\r\\nOut[]: Adding package Microsoft.Quantum.MachineLearning: done!\\r\\n       <list of all loaded packages and versions>\\r\\n```\\r\\n                    \",\"\\r\\nLoad a specific version of the `Microsoft.Quantum.Katas` package into the current IQ# session:\\r\\n```\\r\\nIn []: %package Microsoft.Quantum.Katas::0.11.2006.403\\r\\nOut[]: Adding package Microsoft.Quantum.Katas::0.11.2006.403: done!\\r\\n       <list of all loaded packages and versions>\\r\\n```\\r\\n                    \",\"\\r\\nView the list of all packages that have been loaded into the current IQ# session:\\r\\n```\\r\\nIn []: %package\\r\\nOut[]: <list of all loaded packages and versions>\\r\\n```\\r\\n                    \"],\"SeeAlso\":null},\"AssemblyName\":\"Microsoft.Quantum.IQSharp.Kernel\"},{\"Name\":\"%performance\",\"Documentation\":{\"Summary\":\"Reports current performance metrics for this kernel.\",\"Full\":null,\"Description\":\"\\r\\nReports various performance metrics for the current IQ# kernel process, including:\\r\\n\\r\\n- Managed RAM usage\\r\\n- Total RAM usage\\r\\n- Virtual memory size\\r\\n- User time\\r\\n- Total time\\r\\n                \",\"Remarks\":null,\"Examples\":[\"\\r\\nDisplay performance metrics for the current IQ# kernel process:\\r\\n```\\r\\nIn []: %performance\\r\\nOut[]: Metric                        Value\\r\\n       ----------------------------  -------------\\r\\n       Managed RAM usage (bytes)     4.985 MiB\\r\\n       Total RAM usage (bytes)       54.543 MiB\\r\\n       Virtual memory size (bytes)   2.005 TiB\\r\\n       User time                     00:00:01.109\\r\\n       Total time                    00:00:01.437\\r\\n```\\r\\n                    \"],\"SeeAlso\":null},\"AssemblyName\":\"Microsoft.Quantum.IQSharp.Kernel\"},{\"Name\":\"%simulate\",\"Documentation\":{\"Summary\":\"Runs a given function or operation on the QuantumSimulator target machine.\",\"Full\":null,\"Description\":\"\\r\\nThis magic command allows executing a given function or operation on the QuantumSimulator, \\r\\nwhich performs a full-state simulation of the given function or operation\\r\\nand prints the resulting return value.\\r\\n\\r\\nSee the [QuantumSimulator user guide](https://docs.microsoft.com/quantum/user-guide/machines/full-state-simulator) to learn more.\\r\\n\\r\\n#### Required parameters\\r\\n\\r\\n- Q# operation or function name. This must be the first parameter, and must be a valid Q# operation\\r\\nor function name that has been defined either in the notebook or in a Q# file in the same folder.\\r\\n- Arguments for the Q# operation or function must also be specified as `key=value` pairs.\\r\\n                \",\"Remarks\":null,\"Examples\":[\"\\r\\nSimulate a Q# operation defined as `operation MyOperation() : Result`:\\r\\n```\\r\\nIn []: %simulate MyOperation\\r\\nOut[]: <return value of the operation>\\r\\n```\\r\\n                    \",\"\\r\\nSimulate a Q# operation defined as `operation MyOperation(a : Int, b : Int) : Result`:\\r\\n```\\r\\nIn []: %simulate MyOperation a=5 b=10\\r\\nOut[]: <return value of the operation>\\r\\n```\\r\\n                    \"],\"SeeAlso\":null},\"AssemblyName\":\"Microsoft.Quantum.IQSharp.Kernel\"},{\"Name\":\"%toffoli\",\"Documentation\":{\"Summary\":\"Runs a given function or operation on the ToffoliSimulator target machine.\",\"Full\":null,\"Description\":\"\\r\\nThis magic command allows executing a given function or operation on the ToffoliSimulator, \\r\\nwhich performs a simulation of the given function or operation in which the state is always\\r\\na simple product state in the computational basis, and prints the resulting return value.\\r\\n\\r\\nSee the [ToffoliSimulator user guide](https://docs.microsoft.com/quantum/user-guide/machines/toffoli-simulator) to learn more.\\r\\n\\r\\n#### Required parameters\\r\\n\\r\\n- Q# operation or function name. This must be the first parameter, and must be a valid Q# operation\\r\\nor function name that has been defined either in the notebook or in a Q# file in the same folder.\\r\\n- Arguments for the Q# operation or function must also be specified as `key=value` pairs.\\r\\n                \",\"Remarks\":null,\"Examples\":[\"\\r\\nUse the ToffoliSimulator to simulate a Q# operation\\r\\ndefined as `operation MyOperation() : Result`:\\r\\n```\\r\\nIn []: %toffoli MyOperation\\r\\nOut[]: <return value of the operation>\\r\\n```\\r\\n                    \",\"\\r\\nUse the ToffoliSimulator to simulate a Q# operation\\r\\ndefined as `operation MyOperation(a : Int, b : Int) : Result`:\\r\\n```\\r\\nIn []: %toffoli MyOperation a=5 b=10\\r\\nOut[]: <return value of the operation>\\r\\n```\\r\\n                    \"],\"SeeAlso\":null},\"AssemblyName\":\"Microsoft.Quantum.IQSharp.Kernel\"},{\"Name\":\"%who\",\"Documentation\":{\"Summary\":\"Lists the Q# operations available in the current session.\",\"Full\":null,\"Description\":\"\\r\\nThis magic command returns a list of Q# operations and functions that are available\\r\\nin the current IQ# session for use with magic commands such as `%simulate`\\r\\nand `%estimate`.\\r\\n\\r\\nThe list will include Q# operations and functions which have been defined interactively\\r\\nwithin cells in the current notebook (after the cells have been executed),\\r\\nas well as any Q# operations and functions defined within .qs files in the current folder.\\r\\n                \",\"Remarks\":null,\"Examples\":[\"\\r\\nDisplay the list of Q# operations and functions available in the current session:\\r\\n```\\r\\nIn []: %who\\r\\nOut[]: <list of Q# operation and function names>\\r\\n```\\r\\n                    \"],\"SeeAlso\":null},\"AssemblyName\":\"Microsoft.Quantum.IQSharp.Kernel\"},{\"Name\":\"%workspace\",\"Documentation\":{\"Summary\":\"Provides actions related to the current workspace.\",\"Full\":null,\"Description\":\"\\r\\nThis magic command allows for displaying and reloading the Q# operations and functions\\r\\ndefined within .qs files in the current folder.\\r\\n\\r\\nIf no parameters are provided, the command displays a list of Q# operations or functions\\r\\nwithin .qs files in the current folder which are available\\r\\nin the current IQ# session for use with magic commands such as `%simulate`\\r\\nand `%estimate`.\\r\\n\\r\\nThe command will also output any errors encountered while compiling the .qs files\\r\\nin the current folder.\\r\\n\\r\\n#### Optional parameters\\r\\n\\r\\n- `reload`: Causes the IQ# kernel to recompile all .qs files in the current folder.\\r\\n                \",\"Remarks\":null,\"Examples\":[\"\\r\\nDisplay the list of Q# operations and functions available in the current folder:\\r\\n```\\r\\nIn []: %workspace\\r\\nOut[]: <list of Q# operation and function names>\\r\\n```\\r\\n                    \",\"\\r\\nRecompile the .qs files in the current folder:\\r\\n```\\r\\nIn []: %workspace reload\\r\\nOut[]: <list of Q# operation and function names>\\r\\n```\\r\\n                    \"],\"SeeAlso\":null},\"AssemblyName\":\"Microsoft.Quantum.IQSharp.Kernel\"}]",
      "text/html": [
       "<table><thead><tr><th style=\"text-align: start;\">Name</th><th style=\"text-align: start;\">Summary</th><th style=\"text-align: start;\">Assembly</th></tr></thead><tbody><tr><td style=\"text-align: start;\">%azure.connect</td><td style=\"text-align: start;\">Connects to an Azure Quantum workspace or displays current connection status.</td><td style=\"text-align: start;\">Microsoft.Quantum.IQSharp.AzureClient</td></tr><tr><td style=\"text-align: start;\">%azure.execute</td><td style=\"text-align: start;\">Executes a job in an Azure Quantum workspace.</td><td style=\"text-align: start;\">Microsoft.Quantum.IQSharp.AzureClient</td></tr><tr><td style=\"text-align: start;\">%azure.jobs</td><td style=\"text-align: start;\">Displays a list of jobs in the current Azure Quantum workspace.</td><td style=\"text-align: start;\">Microsoft.Quantum.IQSharp.AzureClient</td></tr><tr><td style=\"text-align: start;\">%azure.output</td><td style=\"text-align: start;\">Displays results for a job in the current Azure Quantum workspace.</td><td style=\"text-align: start;\">Microsoft.Quantum.IQSharp.AzureClient</td></tr><tr><td style=\"text-align: start;\">%azure.status</td><td style=\"text-align: start;\">Displays status for a job in the current Azure Quantum workspace.</td><td style=\"text-align: start;\">Microsoft.Quantum.IQSharp.AzureClient</td></tr><tr><td style=\"text-align: start;\">%azure.submit</td><td style=\"text-align: start;\">Submits a job to an Azure Quantum workspace.</td><td style=\"text-align: start;\">Microsoft.Quantum.IQSharp.AzureClient</td></tr><tr><td style=\"text-align: start;\">%azure.target</td><td style=\"text-align: start;\">Sets or displays the active execution target for Q# job submission in an Azure Quantum workspace.</td><td style=\"text-align: start;\">Microsoft.Quantum.IQSharp.AzureClient</td></tr><tr><td style=\"text-align: start;\">%chp</td><td style=\"text-align: start;\">Runs a given function or operation on the ToffoliSimulator target machine.</td><td style=\"text-align: start;\">CHPSimulator</td></tr><tr><td style=\"text-align: start;\">%config</td><td style=\"text-align: start;\">Allows setting or querying configuration options.</td><td style=\"text-align: start;\">Microsoft.Quantum.IQSharp.Kernel</td></tr><tr><td style=\"text-align: start;\">%estimate</td><td style=\"text-align: start;\">Runs a given function or operation on the ResourcesEstimator target machine.</td><td style=\"text-align: start;\">Microsoft.Quantum.IQSharp.Kernel</td></tr><tr><td style=\"text-align: start;\">%lsmagic</td><td style=\"text-align: start;\">Returns a list of all currently available magic commands.</td><td style=\"text-align: start;\">Microsoft.Quantum.IQSharp.Kernel</td></tr><tr><td style=\"text-align: start;\">%lsopen</td><td style=\"text-align: start;\">Lists currently opened namespaces and their aliases.</td><td style=\"text-align: start;\">Microsoft.Quantum.IQSharp.Kernel</td></tr><tr><td style=\"text-align: start;\">%package</td><td style=\"text-align: start;\">Provides the ability to load a NuGet package.</td><td style=\"text-align: start;\">Microsoft.Quantum.IQSharp.Kernel</td></tr><tr><td style=\"text-align: start;\">%performance</td><td style=\"text-align: start;\">Reports current performance metrics for this kernel.</td><td style=\"text-align: start;\">Microsoft.Quantum.IQSharp.Kernel</td></tr><tr><td style=\"text-align: start;\">%simulate</td><td style=\"text-align: start;\">Runs a given function or operation on the QuantumSimulator target machine.</td><td style=\"text-align: start;\">Microsoft.Quantum.IQSharp.Kernel</td></tr><tr><td style=\"text-align: start;\">%toffoli</td><td style=\"text-align: start;\">Runs a given function or operation on the ToffoliSimulator target machine.</td><td style=\"text-align: start;\">Microsoft.Quantum.IQSharp.Kernel</td></tr><tr><td style=\"text-align: start;\">%who</td><td style=\"text-align: start;\">Lists the Q# operations available in the current session.</td><td style=\"text-align: start;\">Microsoft.Quantum.IQSharp.Kernel</td></tr><tr><td style=\"text-align: start;\">%workspace</td><td style=\"text-align: start;\">Provides actions related to the current workspace.</td><td style=\"text-align: start;\">Microsoft.Quantum.IQSharp.Kernel</td></tr></tbody></table>"
      ],
      "text/plain": [
       "Name           Summary                                                                                           Assembly\r\n",
       "-------------- ------------------------------------------------------------------------------------------------- -------------------------------------\r\n",
       "%azure.connect Connects to an Azure Quantum workspace or displays current connection status.                     Microsoft.Quantum.IQSharp.AzureClient\r\n",
       "%azure.execute Executes a job in an Azure Quantum workspace.                                                     Microsoft.Quantum.IQSharp.AzureClient\r\n",
       "%azure.jobs    Displays a list of jobs in the current Azure Quantum workspace.                                   Microsoft.Quantum.IQSharp.AzureClient\r\n",
       "%azure.output  Displays results for a job in the current Azure Quantum workspace.                                Microsoft.Quantum.IQSharp.AzureClient\r\n",
       "%azure.status  Displays status for a job in the current Azure Quantum workspace.                                 Microsoft.Quantum.IQSharp.AzureClient\r\n",
       "%azure.submit  Submits a job to an Azure Quantum workspace.                                                      Microsoft.Quantum.IQSharp.AzureClient\r\n",
       "%azure.target  Sets or displays the active execution target for Q# job submission in an Azure Quantum workspace. Microsoft.Quantum.IQSharp.AzureClient\r\n",
       "%chp           Runs a given function or operation on the ToffoliSimulator target machine.                        CHPSimulator\r\n",
       "%config        Allows setting or querying configuration options.                                                 Microsoft.Quantum.IQSharp.Kernel\r\n",
       "%estimate      Runs a given function or operation on the ResourcesEstimator target machine.                      Microsoft.Quantum.IQSharp.Kernel\r\n",
       "%lsmagic       Returns a list of all currently available magic commands.                                         Microsoft.Quantum.IQSharp.Kernel\r\n",
       "%lsopen        Lists currently opened namespaces and their aliases.                                              Microsoft.Quantum.IQSharp.Kernel\r\n",
       "%package       Provides the ability to load a NuGet package.                                                     Microsoft.Quantum.IQSharp.Kernel\r\n",
       "%performance   Reports current performance metrics for this kernel.                                              Microsoft.Quantum.IQSharp.Kernel\r\n",
       "%simulate      Runs a given function or operation on the QuantumSimulator target machine.                        Microsoft.Quantum.IQSharp.Kernel\r\n",
       "%toffoli       Runs a given function or operation on the ToffoliSimulator target machine.                        Microsoft.Quantum.IQSharp.Kernel\r\n",
       "%who           Lists the Q# operations available in the current session.                                         Microsoft.Quantum.IQSharp.Kernel\r\n",
       "%workspace     Provides actions related to the current workspace.                                                Microsoft.Quantum.IQSharp.Kernel\r\n"
      ]
     },
     "execution_count": 2,
     "metadata": {},
     "output_type": "execute_result"
    }
   ],
   "source": [
    "%lsmagic"
   ]
  },
  {
   "cell_type": "markdown",
   "metadata": {},
   "source": [
    "### 3. Write or load the Q# code you want to use"
   ]
  },
  {
   "cell_type": "code",
   "execution_count": 3,
   "metadata": {},
   "outputs": [
    {
     "data": {
      "application/json": "[]",
      "text/html": [
       "<ul></ul>"
      ],
      "text/plain": []
     },
     "execution_count": 3,
     "metadata": {},
     "output_type": "execute_result"
    }
   ],
   "source": [
    "open Microsoft.Quantum.Diagnostics;\n",
    "open Microsoft.Quantum.Arrays;"
   ]
  },
  {
   "cell_type": "markdown",
   "metadata": {},
   "source": [
    "Also set the number of Qubits you want the simulator to use:"
   ]
  },
  {
   "cell_type": "code",
   "execution_count": 4,
   "metadata": {},
   "outputs": [
    {
     "data": {
      "application/json": "\"4\"",
      "text/plain": [
       "4"
      ]
     },
     "execution_count": 4,
     "metadata": {},
     "output_type": "execute_result"
    }
   ],
   "source": [
    "%config chp.nQubits = 4"
   ]
  },
  {
   "cell_type": "code",
   "execution_count": 5,
   "metadata": {},
   "outputs": [
    {
     "data": {
      "application/json": "[\"foo\"]",
      "text/html": [
       "<ul><li>foo</li></ul>"
      ],
      "text/plain": [
       "foo"
      ]
     },
     "execution_count": 5,
     "metadata": {},
     "output_type": "execute_result"
    }
   ],
   "source": [
    "operation foo() : Unit {\n",
    "    using (register = Qubit[4]) {\n",
    "            H(register[2]); //|+>\n",
    "            DumpMachine();\n",
    "            S(register[2]); //|i>\n",
    "            S(register[2]); //|->\n",
    "            H(register[2]); //|1>\n",
    "            DumpMachine();\n",
    "            AssertMeasurement([PauliZ],[register[0]], Zero, \"first qubit shouldn't have been flipped\");\n",
    "            AssertMeasurement([PauliZ],[register[1]], Zero, \"second qubit shouldn't have been flipped\");\n",
    "            AssertMeasurement([PauliZ],[register[2]], One, \"third qubit should have been flipped\");\n",
    "            AssertMeasurement([PauliZ],[register[3]], Zero, \"fourth qubit shouldn't have been flipped\");\n",
    "            Reset(register[2]);\n",
    "        }\n",
    "} "
   ]
  },
  {
   "cell_type": "code",
   "execution_count": 6,
   "metadata": {},
   "outputs": [
    {
     "data": {
      "application/json": "{\"Data\":[[true,false,false,false,false,false,false,false,false],[false,true,false,false,false,false,false,false,false],[false,false,false,false,false,false,true,false,false],[false,false,false,true,false,false,false,false,false],[false,false,false,false,true,false,false,false,false],[false,false,false,false,false,true,false,false,false],[false,false,true,false,false,false,false,false,false],[false,false,false,false,false,false,false,true,false]]}",
      "text/html": [
       "\r\n",
       "                $\\left(\\begin{array}{cccc|cccc|c}\r\n",
       "                0 & 0 & 0 & 0 & 1 & 0 & 0 & 0 & 0 \\\\0 & 0 & 0 & 0 & 0 & 1 & 0 & 0 & 0 \\\\0 & 0 & 1 & 0 & 0 & 0 & 0 & 0 & 0 \\\\0 & 0 & 0 & 0 & 0 & 0 & 0 & 1 & 0\r\n",
       "                \\end{array} \\right)$"
      ],
      "text/plain": [
       "<+ZIII, +IZII, +IIXI, +IIIZ>| >+XIII, +IXII, +IIZI, +IIIX<"
      ]
     },
     "metadata": {},
     "output_type": "display_data"
    },
    {
     "data": {
      "application/json": "{\"Data\":[[true,false,false,false,false,false,false,false,false],[false,true,false,false,false,false,false,false,false],[false,false,true,false,false,false,false,false,false],[false,false,false,true,false,false,false,false,false],[false,false,false,false,true,false,false,false,false],[false,false,false,false,false,true,false,false,false],[false,false,false,false,false,false,true,false,true],[false,false,false,false,false,false,false,true,false]]}",
      "text/html": [
       "\r\n",
       "                $\\left(\\begin{array}{cccc|cccc|c}\r\n",
       "                0 & 0 & 0 & 0 & 1 & 0 & 0 & 0 & 0 \\\\0 & 0 & 0 & 0 & 0 & 1 & 0 & 0 & 0 \\\\0 & 0 & 0 & 0 & 0 & 0 & 1 & 0 & 1 \\\\0 & 0 & 0 & 0 & 0 & 0 & 0 & 1 & 0\r\n",
       "                \\end{array} \\right)$"
      ],
      "text/plain": [
       "<+ZIII, +IZII, -IIZI, +IIIZ>| >+XIII, +IXII, +IIXI, +IIIX<"
      ]
     },
     "metadata": {},
     "output_type": "display_data"
    },
    {
     "data": {
      "application/json": "{\"@type\":\"tuple\"}",
      "text/plain": [
       "()"
      ]
     },
     "execution_count": 6,
     "metadata": {},
     "output_type": "execute_result"
    }
   ],
   "source": [
    "%chp foo"
   ]
  },
  {
   "cell_type": "markdown",
   "metadata": {},
   "source": [
    "### If you want to turn on internal debug messages:"
   ]
  },
  {
   "cell_type": "code",
   "execution_count": 7,
   "metadata": {},
   "outputs": [
    {
     "data": {
      "application/json": "\"true\"",
      "text/plain": [
       "true"
      ]
     },
     "execution_count": 7,
     "metadata": {},
     "output_type": "execute_result"
    }
   ],
   "source": [
    "%config chp.debug = true"
   ]
  },
  {
   "cell_type": "code",
   "execution_count": 8,
   "metadata": {},
   "outputs": [
    {
     "data": {
      "application/json": "{\"Data\":[[true,false,false,false,false,false,false,false,false],[false,true,false,false,false,false,false,false,false],[false,false,false,false,false,false,true,false,false],[false,false,false,true,false,false,false,false,false],[false,false,false,false,true,false,false,false,false],[false,false,false,false,false,true,false,false,false],[false,false,true,false,false,false,false,false,false],[false,false,false,false,false,false,false,true,false]]}",
      "text/html": [
       "\r\n",
       "                $\\left(\\begin{array}{cccc|cccc|c}\r\n",
       "                0 & 0 & 0 & 0 & 1 & 0 & 0 & 0 & 0 \\\\0 & 0 & 0 & 0 & 0 & 1 & 0 & 0 & 0 \\\\0 & 0 & 1 & 0 & 0 & 0 & 0 & 0 & 0 \\\\0 & 0 & 0 & 0 & 0 & 0 & 0 & 1 & 0\r\n",
       "                \\end{array} \\right)$"
      ],
      "text/plain": [
       "<+ZIII, +IZII, +IIXI, +IIIZ>| >+XIII, +IXII, +IIZI, +IIIX<"
      ]
     },
     "metadata": {},
     "output_type": "display_data"
    },
    {
     "data": {
      "application/json": "{\"Data\":[[true,false,false,false,false,false,false,false,false],[false,true,false,false,false,false,false,false,false],[false,false,true,false,false,false,false,false,false],[false,false,false,true,false,false,false,false,false],[false,false,false,false,true,false,false,false,false],[false,false,false,false,false,true,false,false,false],[false,false,false,false,false,false,true,false,true],[false,false,false,false,false,false,false,true,false]]}",
      "text/html": [
       "\r\n",
       "                $\\left(\\begin{array}{cccc|cccc|c}\r\n",
       "                0 & 0 & 0 & 0 & 1 & 0 & 0 & 0 & 0 \\\\0 & 0 & 0 & 0 & 0 & 1 & 0 & 0 & 0 \\\\0 & 0 & 0 & 0 & 0 & 0 & 1 & 0 & 1 \\\\0 & 0 & 0 & 0 & 0 & 0 & 0 & 1 & 0\r\n",
       "                \\end{array} \\right)$"
      ],
      "text/plain": [
       "<+ZIII, +IZII, -IIZI, +IIIZ>| >+XIII, +IXII, +IIXI, +IIIX<"
      ]
     },
     "metadata": {},
     "output_type": "display_data"
    },
    {
     "name": "stderr",
     "output_type": "stream",
     "text": [
      "DEBUG: shouldBeDeterministic = True, expectedResult = Zero\n",
      "DEBUG: IsResultDetermined(0, out Zero) = True\n",
      "DEBUG: shouldBeDeterministic = True, expectedResult = Zero\n",
      "DEBUG: IsResultDetermined(1, out Zero) = True\n",
      "DEBUG: shouldBeDeterministic = True, expectedResult = One\n",
      "DEBUG: IsResultDetermined(2, out One) = True\n",
      "DEBUG: shouldBeDeterministic = True, expectedResult = Zero\n",
      "DEBUG: IsResultDetermined(3, out Zero) = True\n",
      "DEBUG: IsResultDetermined(2, out One) = True\n"
     ]
    },
    {
     "data": {
      "application/json": "{\"@type\":\"tuple\"}",
      "text/plain": [
       "()"
      ]
     },
     "execution_count": 8,
     "metadata": {},
     "output_type": "execute_result"
    }
   ],
   "source": [
    "%chp foo"
   ]
  },
  {
   "cell_type": "markdown",
   "metadata": {},
   "source": [
    "#### Optional: If you want to save your simulator config run the following, for more info run `%config?`"
   ]
  },
  {
   "cell_type": "code",
   "execution_count": 9,
   "metadata": {},
   "outputs": [
    {
     "data": {
      "application/json": "{\"rows\":[{\"Key\":\"chp.nQubits\",\"Value\":4},{\"Key\":\"chp.debug\",\"Value\":true}]}",
      "text/html": [
       "<table><thead><tr><th style=\"text-align: start;\">Configuration key</th><th style=\"text-align: start;\">Value</th></tr></thead><tbody><tr><td style=\"text-align: start;\">chp.nQubits</td><td style=\"text-align: start;\">4</td></tr><tr><td style=\"text-align: start;\">chp.debug</td><td style=\"text-align: start;\">true</td></tr></tbody></table>"
      ],
      "text/plain": [
       "Configuration key Value\r\n",
       "----------- ----\r\n",
       "chp.nQubits 4\r\n",
       "chp.debug   true\r\n"
      ]
     },
     "execution_count": 9,
     "metadata": {},
     "output_type": "execute_result"
    }
   ],
   "source": [
    "%config"
   ]
  },
  {
   "cell_type": "code",
   "execution_count": 10,
   "metadata": {},
   "outputs": [
    {
     "data": {
      "application/json": "{\"rows\":[{\"@type\":\"@tuple\",\"Item1\":\"iqsharp\",\"Item2\":\"0.12.20072031\"},{\"@type\":\"@tuple\",\"Item1\":\"Jupyter Core\",\"Item2\":\"1.4.0.0\"},{\"@type\":\"@tuple\",\"Item1\":\".NET Runtime\",\"Item2\":\".NETCoreApp,Version=v3.1\"}]}",
      "text/html": [
       "<table><thead><tr><th style=\"text-align: start;\">Component</th><th style=\"text-align: start;\">Version</th></tr></thead><tbody><tr><td style=\"text-align: start;\">iqsharp</td><td style=\"text-align: start;\">0.12.20072031</td></tr><tr><td style=\"text-align: start;\">Jupyter Core</td><td style=\"text-align: start;\">1.4.0.0</td></tr><tr><td style=\"text-align: start;\">.NET Runtime</td><td style=\"text-align: start;\">.NETCoreApp,Version=v3.1</td></tr></tbody></table>"
      ],
      "text/plain": [
       "Component    Version\r\n",
       "------------ ------------------------\r\n",
       "iqsharp      0.12.20072031\r\n",
       "Jupyter Core 1.4.0.0\r\n",
       ".NET Runtime .NETCoreApp,Version=v3.1\r\n"
      ]
     },
     "metadata": {},
     "output_type": "display_data"
    }
   ],
   "source": [
    "%version"
   ]
  }
 ],
 "metadata": {
  "kernelspec": {
   "display_name": "Q#",
   "language": "qsharp",
   "name": "iqsharp"
  },
  "language_info": {
   "file_extension": ".qs",
   "mimetype": "text/x-qsharp",
   "name": "qsharp",
   "version": "0.12"
  }
 },
 "nbformat": 4,
 "nbformat_minor": 4
}
